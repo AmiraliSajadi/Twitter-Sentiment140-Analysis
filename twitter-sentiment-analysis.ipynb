{
 "cells": [
  {
   "cell_type": "code",
   "execution_count": 1,
   "id": "floppy-practice",
   "metadata": {
    "_cell_guid": "b1076dfc-b9ad-4769-8c92-a6c4dae69d19",
    "_uuid": "8f2839f25d086af736a60e9eeb907d3b93b6e0e5",
    "execution": {
     "iopub.execute_input": "2021-04-27T05:18:33.208782Z",
     "iopub.status.busy": "2021-04-27T05:18:33.207211Z",
     "iopub.status.idle": "2021-04-27T05:18:39.450504Z",
     "shell.execute_reply": "2021-04-27T05:18:39.451568Z"
    },
    "papermill": {
     "duration": 6.284103,
     "end_time": "2021-04-27T05:18:39.451860",
     "exception": false,
     "start_time": "2021-04-27T05:18:33.167757",
     "status": "completed"
    },
    "tags": []
   },
   "outputs": [
    {
     "name": "stdout",
     "output_type": "stream",
     "text": [
      "/kaggle/input/sentiment140/training.1600000.processed.noemoticon.csv\n"
     ]
    }
   ],
   "source": [
    "import numpy as np\n",
    "import pandas as pd\n",
    "\n",
    "# For tokenization\n",
    "from nltk.tokenize import TweetTokenizer\n",
    "# For lemmatization\n",
    "from nltk.tag import pos_tag\n",
    "from nltk.corpus import wordnet\n",
    "from nltk.stem.wordnet import WordNetLemmatizer\n",
    "# For cleaning \n",
    "import re, string\n",
    "from nltk.corpus import stopwords\n",
    "\n",
    "from wordcloud import WordCloud, STOPWORDS\n",
    "import matplotlib.pyplot as plt\n",
    "\n",
    "import tensorflow as tf\n",
    "import keras\n",
    "from keras import backend as K\n",
    "from keras import Sequential\n",
    "from keras.models import Model\n",
    "from keras.layers import Dense, Dropout, LSTM, Bidirectional\n",
    "from keras.layers.embeddings import Embedding\n",
    "from keras.preprocessing.text import one_hot\n",
    "from sklearn.model_selection import train_test_split\n",
    "\n",
    "import os\n",
    "for dirname, _, filenames in os.walk('/kaggle/input'):\n",
    "    for filename in filenames:\n",
    "        print(os.path.join(dirname, filename))"
   ]
  },
  {
   "cell_type": "markdown",
   "id": "expected-interface",
   "metadata": {
    "papermill": {
     "duration": 0.042632,
     "end_time": "2021-04-27T05:18:39.526809",
     "exception": false,
     "start_time": "2021-04-27T05:18:39.484177",
     "status": "completed"
    },
    "tags": []
   },
   "source": [
    "# *Loading and exploring data:*"
   ]
  },
  {
   "cell_type": "code",
   "execution_count": 2,
   "id": "comparative-question",
   "metadata": {
    "execution": {
     "iopub.execute_input": "2021-04-27T05:18:39.649125Z",
     "iopub.status.busy": "2021-04-27T05:18:39.648285Z",
     "iopub.status.idle": "2021-04-27T05:18:46.070192Z",
     "shell.execute_reply": "2021-04-27T05:18:46.069740Z"
    },
    "papermill": {
     "duration": 6.491835,
     "end_time": "2021-04-27T05:18:46.070317",
     "exception": false,
     "start_time": "2021-04-27T05:18:39.578482",
     "status": "completed"
    },
    "tags": []
   },
   "outputs": [
    {
     "name": "stdout",
     "output_type": "stream",
     "text": [
      "<class 'pandas.core.frame.DataFrame'>\n",
      "RangeIndex: 1600000 entries, 0 to 1599999\n",
      "Data columns (total 6 columns):\n",
      " #   Column  Non-Null Count    Dtype \n",
      "---  ------  --------------    ----- \n",
      " 0   label   1600000 non-null  int64 \n",
      " 1   time    1600000 non-null  int64 \n",
      " 2   date    1600000 non-null  object\n",
      " 3   query   1600000 non-null  object\n",
      " 4   user    1600000 non-null  object\n",
      " 5   tweet   1600000 non-null  object\n",
      "dtypes: int64(2), object(4)\n",
      "memory usage: 73.2+ MB\n"
     ]
    }
   ],
   "source": [
    "# Loading the data to a data frame\n",
    "df = pd.read_csv('/kaggle/input/sentiment140/training.1600000.processed.noemoticon.csv', encoding = \"ISO-8859-1\", header=None)\n",
    "\n",
    "# Adding labels to the data\n",
    "df.columns = ['label', 'time', 'date', 'query', 'user', 'tweet']\n",
    "\n",
    "df.info()"
   ]
  },
  {
   "cell_type": "code",
   "execution_count": 3,
   "id": "private-patent",
   "metadata": {
    "execution": {
     "iopub.execute_input": "2021-04-27T05:18:46.144593Z",
     "iopub.status.busy": "2021-04-27T05:18:46.144063Z",
     "iopub.status.idle": "2021-04-27T05:18:46.155417Z",
     "shell.execute_reply": "2021-04-27T05:18:46.154979Z"
    },
    "papermill": {
     "duration": 0.052289,
     "end_time": "2021-04-27T05:18:46.155531",
     "exception": false,
     "start_time": "2021-04-27T05:18:46.103242",
     "status": "completed"
    },
    "tags": []
   },
   "outputs": [
    {
     "data": {
      "text/html": [
       "<div>\n",
       "<style scoped>\n",
       "    .dataframe tbody tr th:only-of-type {\n",
       "        vertical-align: middle;\n",
       "    }\n",
       "\n",
       "    .dataframe tbody tr th {\n",
       "        vertical-align: top;\n",
       "    }\n",
       "\n",
       "    .dataframe thead th {\n",
       "        text-align: right;\n",
       "    }\n",
       "</style>\n",
       "<table border=\"1\" class=\"dataframe\">\n",
       "  <thead>\n",
       "    <tr style=\"text-align: right;\">\n",
       "      <th></th>\n",
       "      <th>label</th>\n",
       "      <th>time</th>\n",
       "      <th>date</th>\n",
       "      <th>query</th>\n",
       "      <th>user</th>\n",
       "      <th>tweet</th>\n",
       "    </tr>\n",
       "  </thead>\n",
       "  <tbody>\n",
       "    <tr>\n",
       "      <th>0</th>\n",
       "      <td>0</td>\n",
       "      <td>1467810369</td>\n",
       "      <td>Mon Apr 06 22:19:45 PDT 2009</td>\n",
       "      <td>NO_QUERY</td>\n",
       "      <td>_TheSpecialOne_</td>\n",
       "      <td>@switchfoot http://twitpic.com/2y1zl - Awww, t...</td>\n",
       "    </tr>\n",
       "    <tr>\n",
       "      <th>1</th>\n",
       "      <td>0</td>\n",
       "      <td>1467810672</td>\n",
       "      <td>Mon Apr 06 22:19:49 PDT 2009</td>\n",
       "      <td>NO_QUERY</td>\n",
       "      <td>scotthamilton</td>\n",
       "      <td>is upset that he can't update his Facebook by ...</td>\n",
       "    </tr>\n",
       "    <tr>\n",
       "      <th>2</th>\n",
       "      <td>0</td>\n",
       "      <td>1467810917</td>\n",
       "      <td>Mon Apr 06 22:19:53 PDT 2009</td>\n",
       "      <td>NO_QUERY</td>\n",
       "      <td>mattycus</td>\n",
       "      <td>@Kenichan I dived many times for the ball. Man...</td>\n",
       "    </tr>\n",
       "    <tr>\n",
       "      <th>3</th>\n",
       "      <td>0</td>\n",
       "      <td>1467811184</td>\n",
       "      <td>Mon Apr 06 22:19:57 PDT 2009</td>\n",
       "      <td>NO_QUERY</td>\n",
       "      <td>ElleCTF</td>\n",
       "      <td>my whole body feels itchy and like its on fire</td>\n",
       "    </tr>\n",
       "    <tr>\n",
       "      <th>4</th>\n",
       "      <td>0</td>\n",
       "      <td>1467811193</td>\n",
       "      <td>Mon Apr 06 22:19:57 PDT 2009</td>\n",
       "      <td>NO_QUERY</td>\n",
       "      <td>Karoli</td>\n",
       "      <td>@nationwideclass no, it's not behaving at all....</td>\n",
       "    </tr>\n",
       "  </tbody>\n",
       "</table>\n",
       "</div>"
      ],
      "text/plain": [
       "   label        time                          date     query             user  \\\n",
       "0      0  1467810369  Mon Apr 06 22:19:45 PDT 2009  NO_QUERY  _TheSpecialOne_   \n",
       "1      0  1467810672  Mon Apr 06 22:19:49 PDT 2009  NO_QUERY    scotthamilton   \n",
       "2      0  1467810917  Mon Apr 06 22:19:53 PDT 2009  NO_QUERY         mattycus   \n",
       "3      0  1467811184  Mon Apr 06 22:19:57 PDT 2009  NO_QUERY          ElleCTF   \n",
       "4      0  1467811193  Mon Apr 06 22:19:57 PDT 2009  NO_QUERY           Karoli   \n",
       "\n",
       "                                               tweet  \n",
       "0  @switchfoot http://twitpic.com/2y1zl - Awww, t...  \n",
       "1  is upset that he can't update his Facebook by ...  \n",
       "2  @Kenichan I dived many times for the ball. Man...  \n",
       "3    my whole body feels itchy and like its on fire   \n",
       "4  @nationwideclass no, it's not behaving at all....  "
      ]
     },
     "execution_count": 3,
     "metadata": {},
     "output_type": "execute_result"
    }
   ],
   "source": [
    "df.head()"
   ]
  },
  {
   "cell_type": "code",
   "execution_count": 4,
   "id": "quality-richmond",
   "metadata": {
    "execution": {
     "iopub.execute_input": "2021-04-27T05:18:46.224360Z",
     "iopub.status.busy": "2021-04-27T05:18:46.223644Z",
     "iopub.status.idle": "2021-04-27T05:18:46.240028Z",
     "shell.execute_reply": "2021-04-27T05:18:46.239608Z"
    },
    "papermill": {
     "duration": 0.052546,
     "end_time": "2021-04-27T05:18:46.240141",
     "exception": false,
     "start_time": "2021-04-27T05:18:46.187595",
     "status": "completed"
    },
    "tags": []
   },
   "outputs": [
    {
     "data": {
      "text/plain": [
       "4    800000\n",
       "0    800000\n",
       "Name: label, dtype: int64"
      ]
     },
     "execution_count": 4,
     "metadata": {},
     "output_type": "execute_result"
    }
   ],
   "source": [
    "# Checking the data's balance: 0=negative 4=positive\n",
    "df['label'].value_counts()"
   ]
  },
  {
   "cell_type": "markdown",
   "id": "elementary-advantage",
   "metadata": {
    "papermill": {
     "duration": 0.032596,
     "end_time": "2021-04-27T05:18:46.305800",
     "exception": false,
     "start_time": "2021-04-27T05:18:46.273204",
     "status": "completed"
    },
    "tags": []
   },
   "source": [
    "Training the model with all the 1600000 data objects takes a long time even with a GPU so we only use a third of the data"
   ]
  },
  {
   "cell_type": "code",
   "execution_count": 5,
   "id": "confirmed-channels",
   "metadata": {
    "execution": {
     "iopub.execute_input": "2021-04-27T05:18:46.375359Z",
     "iopub.status.busy": "2021-04-27T05:18:46.374577Z",
     "iopub.status.idle": "2021-04-27T05:18:46.504410Z",
     "shell.execute_reply": "2021-04-27T05:18:46.505023Z"
    },
    "papermill": {
     "duration": 0.16722,
     "end_time": "2021-04-27T05:18:46.505223",
     "exception": false,
     "start_time": "2021-04-27T05:18:46.338003",
     "status": "completed"
    },
    "tags": []
   },
   "outputs": [
    {
     "name": "stdout",
     "output_type": "stream",
     "text": [
      "800000 800000\n"
     ]
    }
   ],
   "source": [
    "df_pos = df[df['label'] == 4]\n",
    "df_neg = df[df['label'] == 0]\n",
    "print(len(df_pos), len(df_neg))"
   ]
  },
  {
   "cell_type": "code",
   "execution_count": 6,
   "id": "closed-conference",
   "metadata": {
    "execution": {
     "iopub.execute_input": "2021-04-27T05:18:46.578357Z",
     "iopub.status.busy": "2021-04-27T05:18:46.577807Z",
     "iopub.status.idle": "2021-04-27T05:18:46.580746Z",
     "shell.execute_reply": "2021-04-27T05:18:46.581192Z"
    },
    "papermill": {
     "duration": 0.041753,
     "end_time": "2021-04-27T05:18:46.581321",
     "exception": false,
     "start_time": "2021-04-27T05:18:46.539568",
     "status": "completed"
    },
    "tags": []
   },
   "outputs": [
    {
     "name": "stdout",
     "output_type": "stream",
     "text": [
      "800000 800000\n"
     ]
    }
   ],
   "source": [
    "df_pos = df_pos.iloc[:int(len(df_pos)/1)]\n",
    "df_neg = df_neg.iloc[:int(len(df_neg)/1)]\n",
    "print(len(df_pos), len(df_neg))"
   ]
  },
  {
   "cell_type": "code",
   "execution_count": 7,
   "id": "rocky-composite",
   "metadata": {
    "execution": {
     "iopub.execute_input": "2021-04-27T05:18:46.652679Z",
     "iopub.status.busy": "2021-04-27T05:18:46.651446Z",
     "iopub.status.idle": "2021-04-27T05:18:46.777506Z",
     "shell.execute_reply": "2021-04-27T05:18:46.777960Z"
    },
    "papermill": {
     "duration": 0.163983,
     "end_time": "2021-04-27T05:18:46.778123",
     "exception": false,
     "start_time": "2021-04-27T05:18:46.614140",
     "status": "completed"
    },
    "tags": []
   },
   "outputs": [
    {
     "data": {
      "text/plain": [
       "1600000"
      ]
     },
     "execution_count": 7,
     "metadata": {},
     "output_type": "execute_result"
    }
   ],
   "source": [
    "# putting positive and negative rows together\n",
    "df = pd.concat([df_pos, df_neg])\n",
    "len(df)"
   ]
  },
  {
   "cell_type": "code",
   "execution_count": 8,
   "id": "fancy-reader",
   "metadata": {
    "execution": {
     "iopub.execute_input": "2021-04-27T05:18:46.934851Z",
     "iopub.status.busy": "2021-04-27T05:18:46.869836Z",
     "iopub.status.idle": "2021-04-27T05:18:46.937931Z",
     "shell.execute_reply": "2021-04-27T05:18:46.938341Z"
    },
    "papermill": {
     "duration": 0.11645,
     "end_time": "2021-04-27T05:18:46.938498",
     "exception": false,
     "start_time": "2021-04-27T05:18:46.822048",
     "status": "completed"
    },
    "tags": []
   },
   "outputs": [
    {
     "data": {
      "text/html": [
       "<div>\n",
       "<style scoped>\n",
       "    .dataframe tbody tr th:only-of-type {\n",
       "        vertical-align: middle;\n",
       "    }\n",
       "\n",
       "    .dataframe tbody tr th {\n",
       "        vertical-align: top;\n",
       "    }\n",
       "\n",
       "    .dataframe thead th {\n",
       "        text-align: right;\n",
       "    }\n",
       "</style>\n",
       "<table border=\"1\" class=\"dataframe\">\n",
       "  <thead>\n",
       "    <tr style=\"text-align: right;\">\n",
       "      <th></th>\n",
       "      <th>label</th>\n",
       "      <th>tweet</th>\n",
       "    </tr>\n",
       "  </thead>\n",
       "  <tbody>\n",
       "    <tr>\n",
       "      <th>800000</th>\n",
       "      <td>4</td>\n",
       "      <td>I LOVE @Health4UandPets u guys r the best!!</td>\n",
       "    </tr>\n",
       "    <tr>\n",
       "      <th>800001</th>\n",
       "      <td>4</td>\n",
       "      <td>im meeting up with one of my besties tonight! ...</td>\n",
       "    </tr>\n",
       "    <tr>\n",
       "      <th>800002</th>\n",
       "      <td>4</td>\n",
       "      <td>@DaRealSunisaKim Thanks for the Twitter add, S...</td>\n",
       "    </tr>\n",
       "    <tr>\n",
       "      <th>800003</th>\n",
       "      <td>4</td>\n",
       "      <td>Being sick can be really cheap when it hurts t...</td>\n",
       "    </tr>\n",
       "    <tr>\n",
       "      <th>800004</th>\n",
       "      <td>4</td>\n",
       "      <td>@LovesBrooklyn2 he has that effect on everyone</td>\n",
       "    </tr>\n",
       "  </tbody>\n",
       "</table>\n",
       "</div>"
      ],
      "text/plain": [
       "        label                                              tweet\n",
       "800000      4       I LOVE @Health4UandPets u guys r the best!! \n",
       "800001      4  im meeting up with one of my besties tonight! ...\n",
       "800002      4  @DaRealSunisaKim Thanks for the Twitter add, S...\n",
       "800003      4  Being sick can be really cheap when it hurts t...\n",
       "800004      4    @LovesBrooklyn2 he has that effect on everyone "
      ]
     },
     "execution_count": 8,
     "metadata": {},
     "output_type": "execute_result"
    }
   ],
   "source": [
    "# We only need label and the tweet, so other columns are dropped\n",
    "df = df.drop(['time', 'date', 'query', 'user'], axis=1)\n",
    "df.head()"
   ]
  },
  {
   "cell_type": "markdown",
   "id": "center-guess",
   "metadata": {
    "papermill": {
     "duration": 0.033632,
     "end_time": "2021-04-27T05:18:47.006396",
     "exception": false,
     "start_time": "2021-04-27T05:18:46.972764",
     "status": "completed"
    },
    "tags": []
   },
   "source": [
    "# *Data Preprocessing:*\n",
    "1. Cleaning\n",
    "2. Tokenization\n",
    "3. Lemmatization"
   ]
  },
  {
   "cell_type": "markdown",
   "id": "verbal-encyclopedia",
   "metadata": {
    "papermill": {
     "duration": 0.033666,
     "end_time": "2021-04-27T05:18:47.074151",
     "exception": false,
     "start_time": "2021-04-27T05:18:47.040485",
     "status": "completed"
    },
    "tags": []
   },
   "source": [
    "**1.Cleaning:**\n",
    "In this section I only implement the functions needed to clean the data.\n",
    "We will actually use these functions in the Tokenization section. Also in our vectors we don't have '. for exapmle we don't have \"i'm\" but we have \"im\"."
   ]
  },
  {
   "cell_type": "code",
   "execution_count": 9,
   "id": "collectible-killer",
   "metadata": {
    "execution": {
     "iopub.execute_input": "2021-04-27T05:18:47.153784Z",
     "iopub.status.busy": "2021-04-27T05:18:47.152062Z",
     "iopub.status.idle": "2021-04-27T05:18:47.154356Z",
     "shell.execute_reply": "2021-04-27T05:18:47.154777Z"
    },
    "papermill": {
     "duration": 0.046753,
     "end_time": "2021-04-27T05:18:47.154906",
     "exception": false,
     "start_time": "2021-04-27T05:18:47.108153",
     "status": "completed"
    },
    "tags": []
   },
   "outputs": [],
   "source": [
    "def clean(token):\n",
    "    \n",
    "    \"\"\"Converting the common abbreviations and misspellings\n",
    "    to their formal and correct form\"\"\"\n",
    "    \n",
    "    if token == 'u':\n",
    "        return 'you'\n",
    "    if token == 'r':\n",
    "        return 'are'\n",
    "    if token == 'some1':\n",
    "        return 'someone'\n",
    "    if token == 'yrs':\n",
    "        return 'years'\n",
    "    if token == 'hrs':\n",
    "        return 'hours'\n",
    "    if token == 'mins':\n",
    "        return 'minutes'\n",
    "    if token == 'secs':\n",
    "        return 'seconds'\n",
    "    if token == 'pls' or token == 'plz':\n",
    "        return 'please'\n",
    "    if token == '2morow' or token == '2moro':\n",
    "        return 'tomorrow'\n",
    "    if token == '2day':\n",
    "        return 'today'\n",
    "    if token == '4got' or token == '4gotten':\n",
    "        return 'forget'\n",
    "    if token in ['hahah', 'hahaha', 'hahahaha']:\n",
    "        return 'haha'\n",
    "    if token == \"mother's\":\n",
    "        return \"mother\"\n",
    "    if token == \"mom's\":\n",
    "        return \"mom\"\n",
    "    if token == \"dad's\":\n",
    "        return \"dad\"\n",
    "    if token == 'bday' or token == 'b-day':\n",
    "        return 'birthday'\n",
    "    if token in [\"i'm\", \"don't\", \"can't\", \"couldn't\", \"aren't\", \"wouldn't\", \"isn't\", \"didn't\", \"hadn't\",\n",
    "                 \"doesn't\", \"won't\", \"haven't\", \"wasn't\", \"hasn't\", \"shouldn't\", \"ain't\", \"they've\"]:\n",
    "        # Remove the '\n",
    "        return token.replace(\"'\", \"\")\n",
    "    if token in ['lmao', 'lolz', 'rofl']:\n",
    "        return 'lol'\n",
    "    if token == '<3':\n",
    "        return 'love'\n",
    "    if token == 'thanx' or token == 'thnx':\n",
    "        return 'thanks'\n",
    "    if token == 'goood':\n",
    "        return 'good'\n",
    "    if token in ['amp', 'quot', 'lt', 'gt', '½25', '..', '. .', '. . .']:\n",
    "        return ''\n",
    "    \n",
    "    else: return token"
   ]
  },
  {
   "cell_type": "code",
   "execution_count": 10,
   "id": "oriental-bishop",
   "metadata": {
    "execution": {
     "iopub.execute_input": "2021-04-27T05:18:47.381995Z",
     "iopub.status.busy": "2021-04-27T05:18:47.379936Z",
     "iopub.status.idle": "2021-04-27T05:18:47.382574Z",
     "shell.execute_reply": "2021-04-27T05:18:47.382995Z"
    },
    "papermill": {
     "duration": 0.194451,
     "end_time": "2021-04-27T05:18:47.383142",
     "exception": false,
     "start_time": "2021-04-27T05:18:47.188691",
     "status": "completed"
    },
    "tags": []
   },
   "outputs": [],
   "source": [
    "def remove_noise(tokens):\n",
    "    \n",
    "    \"\"\"Uses clean() function and removes links, mentions and\n",
    "    stop words from the list of tokens it is given\"\"\"\n",
    "    \n",
    "    en_stopwords = stopwords.words('english')\n",
    "    cleaned_tokens = []\n",
    "    \n",
    "    for token in tokens:\n",
    "        # remove the token if it's a link\n",
    "        token = re.sub('http[s]?://(?:[a-zA-Z]|[0-9]|[$-_@.&+#]|[!*\\(\\),]|'\\\n",
    "                       '(?:%[0-9a-fA-F][0-9a-fA-F]))+','', token)\n",
    "        # remove the token if it's a mention\n",
    "        token = re.sub(\"(@[A-Za-z0-9_]+)\",\"\", token)\n",
    "\n",
    "        # Cleans the token with clean() function\n",
    "        cleaned_token = clean(token)\n",
    "        \n",
    "        \n",
    "        if cleaned_token == \"idk\":\n",
    "            cleaned_tokens.append('i')\n",
    "            cleaned_tokens.append('dont')\n",
    "            cleaned_tokens.append('know')\n",
    "            continue\n",
    "        if cleaned_token == \"i'll\":\n",
    "            cleaned_tokens.append('i')\n",
    "            cleaned_tokens.append('will')\n",
    "            continue\n",
    "        if cleaned_token == \"you'll\":\n",
    "            cleaned_tokens.append('you')\n",
    "            cleaned_tokens.append('will')\n",
    "            continue\n",
    "        if cleaned_token == \"we'll\":\n",
    "            cleaned_tokens.append('we')\n",
    "            cleaned_tokens.append('will')\n",
    "            continue\n",
    "        if cleaned_token == \"it'll\":\n",
    "            cleaned_tokens.append('it')\n",
    "            cleaned_tokens.append('will')\n",
    "            continue\n",
    "        if cleaned_token == \"it's\":\n",
    "            cleaned_tokens.append('it')\n",
    "            cleaned_tokens.append('is')\n",
    "            continue\n",
    "        if cleaned_token == \"i've\":\n",
    "            cleaned_tokens.append('i')\n",
    "            cleaned_tokens.append('have')\n",
    "            continue\n",
    "        if cleaned_token == \"you've\":\n",
    "            cleaned_tokens.append('you')\n",
    "            cleaned_tokens.append('have')\n",
    "            continue\n",
    "        if cleaned_token == \"we've\":\n",
    "            cleaned_tokens.append('we')\n",
    "            cleaned_tokens.append('have')\n",
    "            continue\n",
    "        if cleaned_token == \"they've\":\n",
    "            cleaned_tokens.append('they')\n",
    "            cleaned_tokens.append('have')\n",
    "            continue\n",
    "        if cleaned_token == \"you're\":\n",
    "            cleaned_tokens.append('you')\n",
    "            cleaned_tokens.append('are')\n",
    "            continue\n",
    "        if cleaned_token == \"we're\":\n",
    "            cleaned_tokens.append('we')\n",
    "            cleaned_tokens.append('are')\n",
    "            continue\n",
    "        if cleaned_token == \"they're\":\n",
    "            cleaned_tokens.append('they')\n",
    "            cleaned_tokens.append('are')\n",
    "            continue\n",
    "        if cleaned_token == \"let's\":\n",
    "            cleaned_tokens.append('let')\n",
    "            cleaned_tokens.append('us')\n",
    "            continue\n",
    "        if cleaned_token == \"she's\":\n",
    "            cleaned_tokens.append('she')\n",
    "            cleaned_tokens.append('is')\n",
    "            continue\n",
    "        if cleaned_token == \"he's\":\n",
    "            cleaned_tokens.append('he')\n",
    "            cleaned_tokens.append('is')\n",
    "            continue\n",
    "        if cleaned_token == \"that's\":\n",
    "            cleaned_tokens.append('that')\n",
    "            cleaned_tokens.append('is')\n",
    "            continue\n",
    "        if cleaned_token == \"i'd\":\n",
    "            cleaned_tokens.append('i')\n",
    "            cleaned_tokens.append('would')\n",
    "            continue\n",
    "        if cleaned_token == \"you'd\":\n",
    "            cleaned_tokens.append('you')\n",
    "            cleaned_tokens.append('would')\n",
    "            continue\n",
    "        if cleaned_token == \"there's\":\n",
    "            cleaned_tokens.append('there')\n",
    "            cleaned_tokens.append('is')\n",
    "            continue\n",
    "        if cleaned_token == \"what's\":\n",
    "            cleaned_tokens.append('what')\n",
    "            cleaned_tokens.append('is')\n",
    "            continue\n",
    "        if cleaned_token == \"how's\":\n",
    "            cleaned_tokens.append('how')\n",
    "            cleaned_tokens.append('is')\n",
    "            continue\n",
    "        if cleaned_token == \"who's\":\n",
    "            cleaned_tokens.append('who')\n",
    "            cleaned_tokens.append('is')\n",
    "            continue\n",
    "        if cleaned_token == \"y'all\" or cleaned_token == \"ya'll\":\n",
    "            cleaned_tokens.append('you')\n",
    "            cleaned_tokens.append('all')\n",
    "            continue\n",
    "\n",
    "        # Returns the token only if it's not a stopword or a punctuation or has more than 2 characters\n",
    "        # there were a lot one character meaningless tokens in cleaned tokens so we only take tokens with more than 2 characters\n",
    "        if cleaned_token not in en_stopwords and cleaned_token not in string.punctuation and len(cleaned_token) > 2:\n",
    "            cleaned_tokens.append(cleaned_token)\n",
    "            \n",
    "    return cleaned_tokens"
   ]
  },
  {
   "cell_type": "markdown",
   "id": "animated-miniature",
   "metadata": {
    "papermill": {
     "duration": 0.034148,
     "end_time": "2021-04-27T05:18:47.452036",
     "exception": false,
     "start_time": "2021-04-27T05:18:47.417888",
     "status": "completed"
    },
    "tags": []
   },
   "source": [
    "**2.Tokenizing:**\n",
    "We are also using the noise_remove() function in this section so if you are using all the 1600000 training example and running the process on a cpu, it can take a relatively long time for this process to finish up"
   ]
  },
  {
   "cell_type": "code",
   "execution_count": 11,
   "id": "brazilian-mercy",
   "metadata": {
    "execution": {
     "iopub.execute_input": "2021-04-27T05:18:47.593590Z",
     "iopub.status.busy": "2021-04-27T05:18:47.593034Z",
     "iopub.status.idle": "2021-04-27T05:27:33.403235Z",
     "shell.execute_reply": "2021-04-27T05:27:33.402135Z"
    },
    "papermill": {
     "duration": 525.917169,
     "end_time": "2021-04-27T05:27:33.403400",
     "exception": false,
     "start_time": "2021-04-27T05:18:47.486231",
     "status": "completed"
    },
    "tags": []
   },
   "outputs": [],
   "source": [
    "# Tokenization --> We use TweetTokenizer from nltk --> Then we put the tokenized sentences and their labels in data\n",
    "# reduce_len argument will allow a maximum of 3 repeating characters and trims the rest (e.g: helloooooo -> hellooo)\n",
    "tk = TweetTokenizer(reduce_len=True)\n",
    "\n",
    "# Separating labels from tweets (as lists)\n",
    "X = df['tweet'].tolist()\n",
    "Y = df['label'].tolist()\n",
    "\n",
    "# Building a list of tuples called data. Each tuple is a pair of tokenized words and It's label as 0/1\n",
    "data = []\n",
    "\n",
    "for x, y in zip(X, Y):\n",
    "    if y == 4:\n",
    "        data.append((remove_noise(tk.tokenize(x)), 1))\n",
    "    elif y == 0:\n",
    "        data.append((remove_noise(tk.tokenize(x)), 0))"
   ]
  },
  {
   "cell_type": "code",
   "execution_count": 12,
   "id": "inclusive-string",
   "metadata": {
    "execution": {
     "iopub.execute_input": "2021-04-27T05:27:33.506507Z",
     "iopub.status.busy": "2021-04-27T05:27:33.505633Z",
     "iopub.status.idle": "2021-04-27T05:27:33.509284Z",
     "shell.execute_reply": "2021-04-27T05:27:33.508562Z"
    },
    "papermill": {
     "duration": 0.067139,
     "end_time": "2021-04-27T05:27:33.509472",
     "exception": false,
     "start_time": "2021-04-27T05:27:33.442333",
     "status": "completed"
    },
    "tags": []
   },
   "outputs": [
    {
     "data": {
      "text/plain": [
       "(['determined',\n",
       "  'get',\n",
       "  'back',\n",
       "  'baseball',\n",
       "  'it',\n",
       "  'is',\n",
       "  'years',\n",
       "  'since',\n",
       "  \"I've\",\n",
       "  'really',\n",
       "  'watched',\n",
       "  'sport',\n",
       "  'Anyone',\n",
       "  'interested',\n",
       "  'going',\n",
       "  'game'],\n",
       " 1)"
      ]
     },
     "execution_count": 12,
     "metadata": {},
     "output_type": "execute_result"
    }
   ],
   "source": [
    "# Viewing a value from the data list (no stop word, link, mention or common abbreviation and tokenized)\n",
    "data[100]"
   ]
  },
  {
   "cell_type": "markdown",
   "id": "neural-swaziland",
   "metadata": {
    "papermill": {
     "duration": 0.055014,
     "end_time": "2021-04-27T05:27:33.621692",
     "exception": false,
     "start_time": "2021-04-27T05:27:33.566678",
     "status": "completed"
    },
    "tags": []
   },
   "source": [
    "**3.Lemmatization:**"
   ]
  },
  {
   "cell_type": "code",
   "execution_count": 13,
   "id": "genetic-school",
   "metadata": {
    "execution": {
     "iopub.execute_input": "2021-04-27T05:27:33.740225Z",
     "iopub.status.busy": "2021-04-27T05:27:33.739390Z",
     "iopub.status.idle": "2021-04-27T05:27:36.408166Z",
     "shell.execute_reply": "2021-04-27T05:27:36.408780Z"
    },
    "papermill": {
     "duration": 2.73138,
     "end_time": "2021-04-27T05:27:36.408980",
     "exception": false,
     "start_time": "2021-04-27T05:27:33.677600",
     "status": "completed"
    },
    "tags": []
   },
   "outputs": [
    {
     "name": "stdout",
     "output_type": "stream",
     "text": [
      "original setence:  ['determined', 'get', 'back', 'baseball', 'it', 'is', 'years', 'since', \"I've\", 'really', 'watched', 'sport', 'Anyone', 'interested', 'going', 'game'] \n",
      "\n",
      "A Preview of the pos_tag function output:\n",
      " [('determined', 'VBN'), ('get', 'VB'), ('back', 'RB'), ('baseball', 'NN'), ('it', 'PRP'), ('is', 'VBZ'), ('years', 'NNS'), ('since', 'IN'), (\"I've\", 'NNP'), ('really', 'RB'), ('watched', 'VBD'), ('sport', 'NN'), ('Anyone', 'NNP'), ('interested', 'VBD'), ('going', 'VBG'), ('game', 'NN')] \n",
      "\n",
      "lemmatized sentence:\n",
      " ['determine', 'get', 'back', 'baseball', 'it', 'be', 'year', 'since', \"I've\", 'really', 'watch', 'sport', 'Anyone', 'interest', 'go', 'game'] \n",
      "\n"
     ]
    }
   ],
   "source": [
    "# Lemmatization --> We use WordNetLemmatizer that takes two inputs: list of tokens and their part of speech (i.e verb, noun, etc...)\n",
    "# To get the tokens' part of speech we use nltk's post_tag function. It takes in a list of tokens and gives us a list of tuples of \n",
    "# tokens and their part of speech pairs. Position tags are explained in:\n",
    "# https://www.ling.upenn.edu/courses/Fall_2003/ling001/penn_treebank_pos.html\n",
    "\n",
    "\n",
    "def lemmatize_sentence(tokens):\n",
    "    \n",
    "    \"\"\" Takes in a list of tokens, generates the position tags for them\n",
    "    and lemmatizes the tokens using WordNetTokenizer function \"\"\"\n",
    "    \n",
    "    lemmatized_sentence = []\n",
    "    lemmatizer = WordNetLemmatizer()\n",
    "    \n",
    "    for word, tag in pos_tag(tokens):\n",
    "        # Converting pos_tag output tags to the tags WordNetTokenizer can interpret\n",
    "        if tag.startswith('N'):\n",
    "            # It's a noun\n",
    "            pos = wordnet.NOUN\n",
    "        elif tag.startswith('V'):\n",
    "            # It's a verb\n",
    "            pos = wordnet.VERB\n",
    "        elif tag.startswith('J'):\n",
    "            # It's an adjective\n",
    "            pos = wordnet.ADJ\n",
    "        else:\n",
    "            # Otherwise we take it as an adverb (starts with 'R')\n",
    "            pos = wordnet.ADV\n",
    "        lemmatized_sentence.append(lemmatizer.lemmatize(word, pos))\n",
    "    \n",
    "    return lemmatized_sentence\n",
    "\n",
    "index = 100\n",
    "print('original setence: ', data[index][0], '\\n')\n",
    "print('A Preview of the pos_tag function output:\\n', pos_tag(data[index][0]), '\\n')\n",
    "print('lemmatized sentence:\\n', lemmatize_sentence(data[index][0]), '\\n')"
   ]
  },
  {
   "cell_type": "markdown",
   "id": "hungry-collector",
   "metadata": {
    "papermill": {
     "duration": 0.035969,
     "end_time": "2021-04-27T05:27:36.482056",
     "exception": false,
     "start_time": "2021-04-27T05:27:36.446087",
     "status": "completed"
    },
    "tags": []
   },
   "source": [
    "Now we can use the lemmatize_sentence() function that we wrote to lemmatize all the texts in the dataset (which takes a VERY long time to finish):"
   ]
  },
  {
   "cell_type": "code",
   "execution_count": 14,
   "id": "suspended-freeware",
   "metadata": {
    "execution": {
     "iopub.execute_input": "2021-04-27T05:27:36.560583Z",
     "iopub.status.busy": "2021-04-27T05:27:36.558998Z",
     "iopub.status.idle": "2021-04-27T05:44:31.506856Z",
     "shell.execute_reply": "2021-04-27T05:44:31.505687Z"
    },
    "papermill": {
     "duration": 1014.988832,
     "end_time": "2021-04-27T05:44:31.507075",
     "exception": false,
     "start_time": "2021-04-27T05:27:36.518243",
     "status": "completed"
    },
    "tags": []
   },
   "outputs": [],
   "source": [
    "# Lemmatizing the whole data\n",
    "final_data = []\n",
    "for i in range(len(data)):\n",
    "    final_data.append((lemmatize_sentence(data[i][0]), data[i][1]))"
   ]
  },
  {
   "cell_type": "code",
   "execution_count": 15,
   "id": "reduced-northwest",
   "metadata": {
    "execution": {
     "iopub.execute_input": "2021-04-27T05:44:31.589656Z",
     "iopub.status.busy": "2021-04-27T05:44:31.588598Z",
     "iopub.status.idle": "2021-04-27T05:44:31.592076Z",
     "shell.execute_reply": "2021-04-27T05:44:31.592466Z"
    },
    "papermill": {
     "duration": 0.046946,
     "end_time": "2021-04-27T05:44:31.592594",
     "exception": false,
     "start_time": "2021-04-27T05:44:31.545648",
     "status": "completed"
    },
    "tags": []
   },
   "outputs": [
    {
     "data": {
      "text/plain": [
       "['determine',\n",
       " 'get',\n",
       " 'back',\n",
       " 'baseball',\n",
       " 'it',\n",
       " 'be',\n",
       " 'year',\n",
       " 'since',\n",
       " \"I've\",\n",
       " 'really',\n",
       " 'watch',\n",
       " 'sport',\n",
       " 'Anyone',\n",
       " 'interest',\n",
       " 'go',\n",
       " 'game']"
      ]
     },
     "execution_count": 15,
     "metadata": {},
     "output_type": "execute_result"
    }
   ],
   "source": [
    "final_data[100][0]"
   ]
  },
  {
   "cell_type": "markdown",
   "id": "welcome-subscription",
   "metadata": {
    "papermill": {
     "duration": 0.038423,
     "end_time": "2021-04-27T05:44:31.668488",
     "exception": false,
     "start_time": "2021-04-27T05:44:31.630065",
     "status": "completed"
    },
    "tags": []
   },
   "source": [
    "# Data visualization"
   ]
  },
  {
   "cell_type": "code",
   "execution_count": 16,
   "id": "downtown-dialogue",
   "metadata": {
    "execution": {
     "iopub.execute_input": "2021-04-27T05:44:40.068555Z",
     "iopub.status.busy": "2021-04-27T05:44:40.058178Z",
     "iopub.status.idle": "2021-04-27T05:46:07.415560Z",
     "shell.execute_reply": "2021-04-27T05:46:07.416031Z"
    },
    "papermill": {
     "duration": 95.711002,
     "end_time": "2021-04-27T05:46:07.416196",
     "exception": false,
     "start_time": "2021-04-27T05:44:31.705194",
     "status": "completed"
    },
    "tags": []
   },
   "outputs": [
    {
     "name": "stdout",
     "output_type": "stream",
     "text": [
      "Frequent words: \n"
     ]
    },
    {
     "data": {
      "image/png": "[encoded data removed]",
      "text/plain": [
       "<Figure size 720x720 with 1 Axes>"
      ]
     },
     "metadata": {
      "needs_background": "light"
     },
     "output_type": "display_data"
    }
   ],
   "source": [
    "def wordcloud_draw(data, color = 'white'):\n",
    "    \n",
    "    cloud = WordCloud(stopwords = STOPWORDS,\n",
    "                          background_color = color,\n",
    "                          width = 1980,\n",
    "                          height = 1080\n",
    "                         ).generate(' '.join(data))\n",
    "    plt.figure(1, figsize = (10, 10))\n",
    "    plt.imshow(cloud)\n",
    "    plt.axis('off')\n",
    "    plt.show()\n",
    "\n",
    "print('Frequent words: ')\n",
    "visualize_data = df['tweet']\n",
    "wordcloud_draw(visualize_data)\n"
   ]
  },
  {
   "cell_type": "markdown",
   "id": "cutting-bronze",
   "metadata": {
    "papermill": {
     "duration": 0.042005,
     "end_time": "2021-04-27T05:46:07.500784",
     "exception": false,
     "start_time": "2021-04-27T05:46:07.458779",
     "status": "completed"
    },
    "tags": []
   },
   "source": [
    "# *GloVe (Global Vector for words):*"
   ]
  },
  {
   "cell_type": "code",
   "execution_count": 17,
   "id": "heavy-malaysia",
   "metadata": {
    "execution": {
     "iopub.execute_input": "2021-04-27T05:46:07.590508Z",
     "iopub.status.busy": "2021-04-27T05:46:07.589986Z",
     "iopub.status.idle": "2021-04-27T05:46:08.294342Z",
     "shell.execute_reply": "2021-04-27T05:46:08.290791Z"
    },
    "papermill": {
     "duration": 0.751553,
     "end_time": "2021-04-27T05:46:08.294626",
     "exception": false,
     "start_time": "2021-04-27T05:46:07.543073",
     "status": "completed"
    },
    "tags": []
   },
   "outputs": [
    {
     "name": "stdout",
     "output_type": "stream",
     "text": [
      "__notebook__.ipynb\r\n"
     ]
    }
   ],
   "source": [
    "!ls"
   ]
  },
  {
   "cell_type": "code",
   "execution_count": 18,
   "id": "irish-delicious",
   "metadata": {
    "execution": {
     "iopub.execute_input": "2021-04-27T05:46:08.453453Z",
     "iopub.status.busy": "2021-04-27T05:46:08.452658Z",
     "iopub.status.idle": "2021-04-27T05:49:24.946342Z",
     "shell.execute_reply": "2021-04-27T05:49:24.945312Z"
    },
    "papermill": {
     "duration": 196.57867,
     "end_time": "2021-04-27T05:49:24.946490",
     "exception": false,
     "start_time": "2021-04-27T05:46:08.367820",
     "status": "completed"
    },
    "tags": []
   },
   "outputs": [
    {
     "name": "stdout",
     "output_type": "stream",
     "text": [
      "--2021-04-27 05:46:09--  http://nlp.stanford.edu/data/glove.6B.zip\r\n",
      "Resolving nlp.stanford.edu (nlp.stanford.edu)... 171.64.67.140\r\n",
      "Connecting to nlp.stanford.edu (nlp.stanford.edu)|171.64.67.140|:80... connected.\r\n",
      "HTTP request sent, awaiting response... 302 Found\r\n",
      "Location: https://nlp.stanford.edu/data/glove.6B.zip [following]\r\n",
      "--2021-04-27 05:46:09--  https://nlp.stanford.edu/data/glove.6B.zip\r\n",
      "Connecting to nlp.stanford.edu (nlp.stanford.edu)|171.64.67.140|:443... connected.\r\n",
      "HTTP request sent, awaiting response... 301 Moved Permanently\r\n",
      "Location: http://downloads.cs.stanford.edu/nlp/data/glove.6B.zip [following]\r\n",
      "--2021-04-27 05:46:10--  http://downloads.cs.stanford.edu/nlp/data/glove.6B.zip\r\n",
      "Resolving downloads.cs.stanford.edu (downloads.cs.stanford.edu)... 171.64.64.22\r\n",
      "Connecting to downloads.cs.stanford.edu (downloads.cs.stanford.edu)|171.64.64.22|:80... connected.\r\n",
      "HTTP request sent, awaiting response... 200 OK\r\n",
      "Length: 862182613 (822M) [application/zip]\r\n",
      "Saving to: ‘glove.6B.zip’\r\n",
      "\r\n",
      "glove.6B.zip        100%[===================>] 822.24M  5.16MB/s    in 3m 14s  \r\n",
      "\r\n",
      "2021-04-27 05:49:24 (4.24 MB/s) - ‘glove.6B.zip’ saved [862182613/862182613]\r\n",
      "\r\n"
     ]
    }
   ],
   "source": [
    "# Downloading GloVe word embeddings from stanford's website\n",
    "!wget http://nlp.stanford.edu/data/glove.6B.zip"
   ]
  },
  {
   "cell_type": "code",
   "execution_count": 19,
   "id": "informational-marine",
   "metadata": {
    "execution": {
     "iopub.execute_input": "2021-04-27T05:49:25.308965Z",
     "iopub.status.busy": "2021-04-27T05:49:25.308171Z",
     "iopub.status.idle": "2021-04-27T05:49:46.883799Z",
     "shell.execute_reply": "2021-04-27T05:49:46.883274Z"
    },
    "papermill": {
     "duration": 21.758306,
     "end_time": "2021-04-27T05:49:46.883936",
     "exception": false,
     "start_time": "2021-04-27T05:49:25.125630",
     "status": "completed"
    },
    "tags": []
   },
   "outputs": [
    {
     "name": "stdout",
     "output_type": "stream",
     "text": [
      "Archive:  glove.6B.zip\r\n",
      "  inflating: glove.6B.50d.txt        \r\n",
      "  inflating: glove.6B.100d.txt       \r\n",
      "  inflating: glove.6B.200d.txt       \r\n",
      "  inflating: glove.6B.300d.txt       \r\n"
     ]
    }
   ],
   "source": [
    "# Unzipping GloVe\n",
    "!unzip glove.6B.zip"
   ]
  },
  {
   "cell_type": "code",
   "execution_count": 20,
   "id": "painted-southeast",
   "metadata": {
    "execution": {
     "iopub.execute_input": "2021-04-27T05:49:47.403276Z",
     "iopub.status.busy": "2021-04-27T05:49:47.401578Z",
     "iopub.status.idle": "2021-04-27T05:49:47.403884Z",
     "shell.execute_reply": "2021-04-27T05:49:47.404271Z"
    },
    "papermill": {
     "duration": 0.189882,
     "end_time": "2021-04-27T05:49:47.404399",
     "exception": false,
     "start_time": "2021-04-27T05:49:47.214517",
     "status": "completed"
    },
    "tags": []
   },
   "outputs": [],
   "source": [
    "# Defining a function to load GloVe files -->\n",
    "# Take a look at glove file format if needed\n",
    "def read_glove_vecs(glove_file):\n",
    "    with open(glove_file, 'r', encoding='utf8') as file:\n",
    "        # sets don't have duplicate values\n",
    "        words = set()\n",
    "        word_to_vec_map = {}\n",
    "        for line in file:\n",
    "            line_words = line.strip().split()\n",
    "            # The first word in each line is the main word\n",
    "            curr_word = line_words[0]\n",
    "            words.add(curr_word)\n",
    "            # The rest of the word is the vector values of the word\n",
    "            word_to_vec_map[curr_word] = np.array(line_words[1:], dtype=np.float64)\n",
    "        \n",
    "        i = 1\n",
    "        word_to_index = {}\n",
    "        index_to_word = {}\n",
    "        for w in sorted(words):\n",
    "            word_to_index[w] = i\n",
    "            index_to_word[i] = w\n",
    "            i = i + 1\n",
    "        return word_to_index, index_to_word, word_to_vec_map"
   ]
  },
  {
   "cell_type": "code",
   "execution_count": 21,
   "id": "bizarre-breath",
   "metadata": {
    "execution": {
     "iopub.execute_input": "2021-04-27T05:49:48.806087Z",
     "iopub.status.busy": "2021-04-27T05:49:48.799768Z",
     "iopub.status.idle": "2021-04-27T05:49:57.674972Z",
     "shell.execute_reply": "2021-04-27T05:49:57.674493Z"
    },
    "papermill": {
     "duration": 10.092022,
     "end_time": "2021-04-27T05:49:57.675109",
     "exception": false,
     "start_time": "2021-04-27T05:49:47.583087",
     "status": "completed"
    },
    "tags": []
   },
   "outputs": [],
   "source": [
    "# Loading the 50D glove file\n",
    "word_to_index, index_to_word, word_to_vec_map = read_glove_vecs('glove.6B.50d.txt')"
   ]
  },
  {
   "cell_type": "code",
   "execution_count": 22,
   "id": "quiet-frame",
   "metadata": {
    "execution": {
     "iopub.execute_input": "2021-04-27T05:49:59.819605Z",
     "iopub.status.busy": "2021-04-27T05:49:59.817457Z",
     "iopub.status.idle": "2021-04-27T05:49:59.822736Z",
     "shell.execute_reply": "2021-04-27T05:49:59.820278Z"
    },
    "papermill": {
     "duration": 1.966966,
     "end_time": "2021-04-27T05:49:59.822930",
     "exception": false,
     "start_time": "2021-04-27T05:49:57.855964",
     "status": "completed"
    },
    "tags": []
   },
   "outputs": [
    {
     "name": "stdout",
     "output_type": "stream",
     "text": [
      "sentiment:\n",
      "word to index:  325097\n",
      "index 325097 to word:  sentiment\n",
      "word to vec map:  [-1.2133    -0.90213    0.13794   -0.74039    0.50177   -0.44758\n",
      " -0.18016   -0.20015   -0.64463    0.82942    0.33512   -0.80038\n",
      "  0.0061474 -0.18723   -0.75038    0.38448   -0.50565   -1.0729\n",
      " -0.15345   -0.25502    0.47037   -0.09944   -0.039826  -0.54291\n",
      "  0.50762   -1.1403    -0.59459    0.65168    0.49759    1.3418\n",
      "  2.181      0.39817    1.2389    -0.80048   -0.992     -1.4046\n",
      " -1.0876    -0.85777   -0.58064   -0.61168   -0.81255   -0.4506\n",
      " -0.43371   -0.43891    1.0593     0.09786   -0.16378    0.91932\n",
      "  0.75144   -0.16973  ]\n"
     ]
    }
   ],
   "source": [
    "# Examples of above dictionaries:\n",
    "print('sentiment:')\n",
    "print('word to index: ', word_to_index['sentiment'])\n",
    "print('index 325097 to word: ', index_to_word[325097])\n",
    "print('word to vec map: ', word_to_vec_map['sentiment'])"
   ]
  },
  {
   "cell_type": "code",
   "execution_count": 23,
   "id": "suspended-liberia",
   "metadata": {
    "execution": {
     "iopub.execute_input": "2021-04-27T05:50:00.455872Z",
     "iopub.status.busy": "2021-04-27T05:50:00.455043Z",
     "iopub.status.idle": "2021-04-27T05:50:00.457142Z",
     "shell.execute_reply": "2021-04-27T05:50:00.456560Z"
    },
    "papermill": {
     "duration": 0.32915,
     "end_time": "2021-04-27T05:50:00.457284",
     "exception": false,
     "start_time": "2021-04-27T05:50:00.128134",
     "status": "completed"
    },
    "tags": []
   },
   "outputs": [],
   "source": [
    "# Defining cosine similarity (answer in range -1 to 1)\n",
    "# Check out the formula if needed\n",
    "def cosine_similarity(a, b):\n",
    "    dot = np.dot(a, b)\n",
    "    norm_a = np.sqrt(np.sum(a**2))\n",
    "    norm_b = np.sqrt(np.sum(b**2))\n",
    "    return dot / (norm_a * norm_b)"
   ]
  },
  {
   "cell_type": "code",
   "execution_count": 24,
   "id": "native-manual",
   "metadata": {
    "execution": {
     "iopub.execute_input": "2021-04-27T05:50:00.993369Z",
     "iopub.status.busy": "2021-04-27T05:50:00.992450Z",
     "iopub.status.idle": "2021-04-27T05:50:00.995531Z",
     "shell.execute_reply": "2021-04-27T05:50:00.996080Z"
    },
    "papermill": {
     "duration": 0.286028,
     "end_time": "2021-04-27T05:50:00.996234",
     "exception": false,
     "start_time": "2021-04-27T05:50:00.710206",
     "status": "completed"
    },
    "tags": []
   },
   "outputs": [
    {
     "data": {
      "text/plain": [
       "0.699947214104835"
      ]
     },
     "execution_count": 24,
     "metadata": {},
     "output_type": "execute_result"
    }
   ],
   "source": [
    "# Testing the cosine similarity function:\n",
    "cosine_similarity(word_to_vec_map['blade'], word_to_vec_map['knife'])"
   ]
  },
  {
   "cell_type": "markdown",
   "id": "million-reliance",
   "metadata": {
    "papermill": {
     "duration": 0.181296,
     "end_time": "2021-04-27T05:50:01.362687",
     "exception": false,
     "start_time": "2021-04-27T05:50:01.181391",
     "status": "completed"
    },
    "tags": []
   },
   "source": [
    "# Embedding layer"
   ]
  },
  {
   "cell_type": "markdown",
   "id": "silent-solomon",
   "metadata": {
    "papermill": {
     "duration": 0.180073,
     "end_time": "2021-04-27T05:50:01.722887",
     "exception": false,
     "start_time": "2021-04-27T05:50:01.542814",
     "status": "completed"
    },
    "tags": []
   },
   "source": [
    "# Defining a costum Embedding layer:\n",
    "* We will need the setences_to_indices() to turn each sentence into a list of it's corresponding indices \n"
   ]
  },
  {
   "cell_type": "code",
   "execution_count": 25,
   "id": "driven-magazine",
   "metadata": {
    "execution": {
     "iopub.execute_input": "2021-04-27T05:50:02.128289Z",
     "iopub.status.busy": "2021-04-27T05:50:02.127677Z",
     "iopub.status.idle": "2021-04-27T05:50:02.133395Z",
     "shell.execute_reply": "2021-04-27T05:50:02.133787Z"
    },
    "papermill": {
     "duration": 0.2309,
     "end_time": "2021-04-27T05:50:02.133938",
     "exception": false,
     "start_time": "2021-04-27T05:50:01.903038",
     "status": "completed"
    },
    "tags": []
   },
   "outputs": [
    {
     "data": {
      "text/plain": [
       "['determine',\n",
       " 'get',\n",
       " 'back',\n",
       " 'baseball',\n",
       " 'it',\n",
       " 'be',\n",
       " 'year',\n",
       " 'since',\n",
       " \"I've\",\n",
       " 'really',\n",
       " 'watch',\n",
       " 'sport',\n",
       " 'Anyone',\n",
       " 'interest',\n",
       " 'go',\n",
       " 'game']"
      ]
     },
     "execution_count": 25,
     "metadata": {},
     "output_type": "execute_result"
    }
   ],
   "source": [
    "final_data[100][0]"
   ]
  },
  {
   "cell_type": "code",
   "execution_count": 26,
   "id": "suburban-deposit",
   "metadata": {
    "execution": {
     "iopub.execute_input": "2021-04-27T05:50:02.568821Z",
     "iopub.status.busy": "2021-04-27T05:50:02.538070Z",
     "iopub.status.idle": "2021-04-27T05:50:02.898472Z",
     "shell.execute_reply": "2021-04-27T05:50:02.897866Z"
    },
    "papermill": {
     "duration": 0.583259,
     "end_time": "2021-04-27T05:50:02.898615",
     "exception": false,
     "start_time": "2021-04-27T05:50:02.315356",
     "status": "completed"
    },
    "tags": []
   },
   "outputs": [
    {
     "name": "stdout",
     "output_type": "stream",
     "text": [
      "Length of 4th tweet: 2\n",
      "maximum length of a tweet after preprocessing:  34\n"
     ]
    }
   ],
   "source": [
    " # Making a list of each tweet's length\n",
    "lengths = [len(final_data[i][0]) for i in range(len(final_data))]\n",
    "# length of the ith tweet\n",
    "i = 4\n",
    "print('Length of {}th tweet: {}'.format(i, lengths[i]))\n",
    "\n",
    "# Finding the length of the longest tweet \n",
    "max_len = max(lengths)\n",
    "print('maximum length of a tweet after preprocessing: ', max_len)"
   ]
  },
  {
   "cell_type": "code",
   "execution_count": 27,
   "id": "light-northwest",
   "metadata": {
    "execution": {
     "iopub.execute_input": "2021-04-27T05:50:03.271170Z",
     "iopub.status.busy": "2021-04-27T05:50:03.270342Z",
     "iopub.status.idle": "2021-04-27T05:50:03.273208Z",
     "shell.execute_reply": "2021-04-27T05:50:03.272792Z"
    },
    "papermill": {
     "duration": 0.192113,
     "end_time": "2021-04-27T05:50:03.273321",
     "exception": false,
     "start_time": "2021-04-27T05:50:03.081208",
     "status": "completed"
    },
    "tags": []
   },
   "outputs": [],
   "source": [
    "def sentence_to_indices(sentence_words, word_to_index, max_len, i):\n",
    "    global X, Y\n",
    "    sentence_indices = []\n",
    "    for j, w in enumerate(sentence_words):\n",
    "        try:\n",
    "            index = word_to_index[w]\n",
    "        except:\n",
    "            # the word is unknown\n",
    "            index = word_to_index['unk']\n",
    "        X[i, j] = index"
   ]
  },
  {
   "cell_type": "code",
   "execution_count": 28,
   "id": "romance-taylor",
   "metadata": {
    "execution": {
     "iopub.execute_input": "2021-04-27T05:50:03.706554Z",
     "iopub.status.busy": "2021-04-27T05:50:03.641790Z",
     "iopub.status.idle": "2021-04-27T05:50:03.718800Z",
     "shell.execute_reply": "2021-04-27T05:50:03.718332Z"
    },
    "papermill": {
     "duration": 0.262358,
     "end_time": "2021-04-27T05:50:03.718931",
     "exception": false,
     "start_time": "2021-04-27T05:50:03.456573",
     "status": "completed"
    },
    "tags": []
   },
   "outputs": [],
   "source": [
    "# Initializing X as an array each sentence's indices\n",
    "X = np.zeros((len(final_data), max_len))\n",
    "# Initializing Y as an array of each sentence's label\n",
    "Y = np.zeros((len(final_data), ))"
   ]
  },
  {
   "cell_type": "code",
   "execution_count": 29,
   "id": "chinese-stockholm",
   "metadata": {
    "execution": {
     "iopub.execute_input": "2021-04-27T05:50:04.132155Z",
     "iopub.status.busy": "2021-04-27T05:50:04.121336Z",
     "iopub.status.idle": "2021-04-27T05:50:14.588647Z",
     "shell.execute_reply": "2021-04-27T05:50:14.587479Z"
    },
    "papermill": {
     "duration": 10.688625,
     "end_time": "2021-04-27T05:50:14.588792",
     "exception": false,
     "start_time": "2021-04-27T05:50:03.900167",
     "status": "completed"
    },
    "tags": []
   },
   "outputs": [
    {
     "data": {
      "text/html": [
       "<div>\n",
       "<style scoped>\n",
       "    .dataframe tbody tr th:only-of-type {\n",
       "        vertical-align: middle;\n",
       "    }\n",
       "\n",
       "    .dataframe tbody tr th {\n",
       "        vertical-align: top;\n",
       "    }\n",
       "\n",
       "    .dataframe thead th {\n",
       "        text-align: right;\n",
       "    }\n",
       "</style>\n",
       "<table border=\"1\" class=\"dataframe\">\n",
       "  <thead>\n",
       "    <tr style=\"text-align: right;\">\n",
       "      <th></th>\n",
       "      <th>X</th>\n",
       "      <th>Y</th>\n",
       "    </tr>\n",
       "  </thead>\n",
       "  <tbody>\n",
       "    <tr>\n",
       "      <th>0</th>\n",
       "      <td>[372306.0, 169725.0, 74390.0, 0.0, 0.0, 0.0, 0...</td>\n",
       "      <td>1.0</td>\n",
       "    </tr>\n",
       "    <tr>\n",
       "      <th>1</th>\n",
       "      <td>[239785.0, 269953.0, 372306.0, 361859.0, 37230...</td>\n",
       "      <td>1.0</td>\n",
       "    </tr>\n",
       "    <tr>\n",
       "      <th>2</th>\n",
       "      <td>[372306.0, 372306.0, 46173.0, 372306.0, 160418...</td>\n",
       "      <td>1.0</td>\n",
       "    </tr>\n",
       "    <tr>\n",
       "      <th>3</th>\n",
       "      <td>[372306.0, 330826.0, 302352.0, 97698.0, 184322...</td>\n",
       "      <td>1.0</td>\n",
       "    </tr>\n",
       "    <tr>\n",
       "      <th>4</th>\n",
       "      <td>[133896.0, 141948.0, 0.0, 0.0, 0.0, 0.0, 0.0, ...</td>\n",
       "      <td>1.0</td>\n",
       "    </tr>\n",
       "  </tbody>\n",
       "</table>\n",
       "</div>"
      ],
      "text/plain": [
       "                                                   X    Y\n",
       "0  [372306.0, 169725.0, 74390.0, 0.0, 0.0, 0.0, 0...  1.0\n",
       "1  [239785.0, 269953.0, 372306.0, 361859.0, 37230...  1.0\n",
       "2  [372306.0, 372306.0, 46173.0, 372306.0, 160418...  1.0\n",
       "3  [372306.0, 330826.0, 302352.0, 97698.0, 184322...  1.0\n",
       "4  [133896.0, 141948.0, 0.0, 0.0, 0.0, 0.0, 0.0, ...  1.0"
      ]
     },
     "execution_count": 29,
     "metadata": {},
     "output_type": "execute_result"
    }
   ],
   "source": [
    "# Filling X with indices and Y with labels\n",
    "for i, tk_lb in enumerate(final_data):\n",
    "    tokens, label = tk_lb\n",
    "    sentence_to_indices(tokens, word_to_index, max_len, i)\n",
    "    Y[i] = label\n",
    "# Creating a dataframe of X and Y\n",
    "xy_df = pd.DataFrame([*zip(X,Y)])\n",
    "xy_df.columns = ['X', 'Y']\n",
    "xy_df.head()"
   ]
  },
  {
   "cell_type": "code",
   "execution_count": 30,
   "id": "imported-carnival",
   "metadata": {
    "execution": {
     "iopub.execute_input": "2021-04-27T05:50:14.971282Z",
     "iopub.status.busy": "2021-04-27T05:50:14.970470Z",
     "iopub.status.idle": "2021-04-27T05:50:14.973358Z",
     "shell.execute_reply": "2021-04-27T05:50:14.972949Z"
    },
    "papermill": {
     "duration": 0.20109,
     "end_time": "2021-04-27T05:50:14.973477",
     "exception": false,
     "start_time": "2021-04-27T05:50:14.772387",
     "status": "completed"
    },
    "tags": []
   },
   "outputs": [],
   "source": [
    "# Save X and Y to an output file in current directory\n",
    "# Reminder: We are using 1/3 of data\n",
    "# xy_df.to_csv(r'final_xy_small.csv', index=False)"
   ]
  },
  {
   "cell_type": "code",
   "execution_count": 31,
   "id": "incoming-lending",
   "metadata": {
    "execution": {
     "iopub.execute_input": "2021-04-27T05:50:15.357155Z",
     "iopub.status.busy": "2021-04-27T05:50:15.356367Z",
     "iopub.status.idle": "2021-04-27T05:50:15.360323Z",
     "shell.execute_reply": "2021-04-27T05:50:15.360684Z"
    },
    "papermill": {
     "duration": 0.196106,
     "end_time": "2021-04-27T05:50:15.360904",
     "exception": false,
     "start_time": "2021-04-27T05:50:15.164798",
     "status": "completed"
    },
    "tags": []
   },
   "outputs": [
    {
     "name": "stdout",
     "output_type": "stream",
     "text": [
      "X:\n",
      " [[372306. 169725.  74390.      0.      0.      0.      0.      0.      0.\n",
      "       0.      0.      0.      0.      0.      0.      0.      0.      0.\n",
      "       0.      0.      0.      0.      0.      0.      0.      0.      0.\n",
      "       0.      0.      0.      0.      0.      0.      0.]\n",
      " [239785. 269953. 372306. 361859. 372306. 382320. 372306. 372306.      0.\n",
      "       0.      0.      0.      0.      0.      0.      0.      0.      0.\n",
      "       0.      0.      0.      0.      0.      0.      0.      0.      0.\n",
      "       0.      0.      0.      0.      0.      0.      0.]\n",
      " [372306. 372306.  46173. 372306. 160418. 239785. 372306. 329974.  58999.\n",
      "  349437.      0.      0.      0.      0.      0.      0.      0.      0.\n",
      "       0.      0.      0.      0.      0.      0.      0.      0.      0.\n",
      "       0.      0.      0.      0.      0.      0.      0.]\n",
      " [372306. 330826. 302352.  97698. 184322. 251645. 132701. 302292. 151204.\n",
      "  372306. 154049. 231458. 338210.      0.      0.      0.      0.      0.\n",
      "       0.      0.      0.      0.      0.      0.      0.      0.      0.\n",
      "       0.      0.      0.      0.      0.      0.      0.]\n",
      " [133896. 141948.      0.      0.      0.      0.      0.      0.      0.\n",
      "       0.      0.      0.      0.      0.      0.      0.      0.      0.\n",
      "       0.      0.      0.      0.      0.      0.      0.      0.      0.\n",
      "       0.      0.      0.      0.      0.      0.      0.]]\n",
      "Y:\n",
      " [1. 1. 1. 1. 1.]\n"
     ]
    }
   ],
   "source": [
    "# Preview of X and Y first 5 elements\n",
    "print('X:\\n', X[:5])\n",
    "print('Y:\\n', Y[:5])"
   ]
  },
  {
   "cell_type": "markdown",
   "id": "worst-stretch",
   "metadata": {
    "papermill": {
     "duration": 0.185022,
     "end_time": "2021-04-27T05:50:15.730849",
     "exception": false,
     "start_time": "2021-04-27T05:50:15.545827",
     "status": "completed"
    },
    "tags": []
   },
   "source": [
    "Now that we have access to each word's representing index in each training example (sentence)\n",
    "We will proceed to build a **model**:\n",
    "First we make our embedding layer that takes in our sentence's word indices and multiplys it by the weights (corresponding embedding vectors) :"
   ]
  },
  {
   "cell_type": "code",
   "execution_count": 32,
   "id": "fabulous-huntington",
   "metadata": {
    "execution": {
     "iopub.execute_input": "2021-04-27T05:50:16.109624Z",
     "iopub.status.busy": "2021-04-27T05:50:16.108770Z",
     "iopub.status.idle": "2021-04-27T05:50:16.111448Z",
     "shell.execute_reply": "2021-04-27T05:50:16.111036Z"
    },
    "papermill": {
     "duration": 0.195991,
     "end_time": "2021-04-27T05:50:16.111562",
     "exception": false,
     "start_time": "2021-04-27T05:50:15.915571",
     "status": "completed"
    },
    "tags": []
   },
   "outputs": [],
   "source": [
    "def pretrained_embedding_layer(word_to_vec_map, word_to_index, max_len):\n",
    "    \n",
    "    \"\"\" Creating a Keras Embedding() layer that takes in all the input indices\n",
    "    and multiply it by corresponding vectors\n",
    "    to output values in shape of (vocabulary , words's_vectors)\n",
    "    the weigths are the embedding matrix\"\"\"\n",
    "    \n",
    "    # Vocab length is the length of our dictionary of unique words plus one (for unk)\n",
    "    vocab_len = len(word_to_index) + 1\n",
    "    \n",
    "    # emb_dim represents the length of a word embedding (= dimension of glove vector (50/100/...))\n",
    "    emb_dim = word_to_vec_map['random'].shape[0]\n",
    "    \n",
    "    # Each row of embedding matrix will store the vector representation of one word for the entire dictionary\n",
    "    emb_matrix = np.zeros((vocab_len, emb_dim))\n",
    "    \n",
    "    # Setting the 'idx'th row of the emb_matrix to the word vector representation of that word \n",
    "    for word, idx in word_to_index.items():\n",
    "        emb_matrix[idx, :] = word_to_vec_map[word]\n",
    "        \n",
    "    # Creating the Keras embedding layer with vocabulary as input and emb_matrix as output\n",
    "    # trainable=False will not allow the optimization algorithm to modify the values of the word embeddings (weights)\n",
    "    embedding_layer = Embedding(input_dim=vocab_len, output_dim=emb_dim, trainable=False, input_shape=(max_len,))\n",
    "    \n",
    "    # Building the embedding layer so that we can set the weights\n",
    "    embedding_layer.build((None,))\n",
    "    \n",
    "    # Setting the weights to the emb_matrix\n",
    "    embedding_layer.set_weights([emb_matrix])\n",
    "    \n",
    "    return embedding_layer"
   ]
  },
  {
   "cell_type": "markdown",
   "id": "greek-stress",
   "metadata": {
    "papermill": {
     "duration": 0.186246,
     "end_time": "2021-04-27T05:50:16.482127",
     "exception": false,
     "start_time": "2021-04-27T05:50:16.295881",
     "status": "completed"
    },
    "tags": []
   },
   "source": [
    "# Defining Model:"
   ]
  },
  {
   "cell_type": "code",
   "execution_count": 33,
   "id": "killing-mailing",
   "metadata": {
    "execution": {
     "iopub.execute_input": "2021-04-27T05:50:16.870277Z",
     "iopub.status.busy": "2021-04-27T05:50:16.869537Z",
     "iopub.status.idle": "2021-04-27T05:50:21.510203Z",
     "shell.execute_reply": "2021-04-27T05:50:21.509233Z"
    },
    "papermill": {
     "duration": 4.843484,
     "end_time": "2021-04-27T05:50:21.510342",
     "exception": false,
     "start_time": "2021-04-27T05:50:16.666858",
     "status": "completed"
    },
    "tags": []
   },
   "outputs": [
    {
     "name": "stdout",
     "output_type": "stream",
     "text": [
      "Model: \"sequential\"\n",
      "_________________________________________________________________\n",
      "Layer (type)                 Output Shape              Param #   \n",
      "=================================================================\n",
      "embedding (Embedding)        (None, 34, 50)            20000050  \n",
      "_________________________________________________________________\n",
      "bidirectional (Bidirectional (None, 34, 256)           183296    \n",
      "_________________________________________________________________\n",
      "bidirectional_1 (Bidirection (None, 256)               394240    \n",
      "_________________________________________________________________\n",
      "dense (Dense)                (None, 1)                 257       \n",
      "=================================================================\n",
      "Total params: 20,577,843\n",
      "Trainable params: 577,793\n",
      "Non-trainable params: 20,000,050\n",
      "_________________________________________________________________\n"
     ]
    }
   ],
   "source": [
    "model = Sequential()\n",
    "\n",
    "model.add(pretrained_embedding_layer(word_to_vec_map, word_to_index, max_len))\n",
    "# return_sequence has to be true because we have another layer (for accessing the hidden state)\n",
    "model.add(Bidirectional(LSTM(units=128, return_sequences=True)))\n",
    "model.add(Bidirectional(LSTM(units=128, return_sequences=False)))\n",
    "model.add(Dense(units=1, activation='sigmoid'))\n",
    "\n",
    "model.summary()"
   ]
  },
  {
   "cell_type": "code",
   "execution_count": 34,
   "id": "surprising-moral",
   "metadata": {
    "execution": {
     "iopub.execute_input": "2021-04-27T05:50:21.954285Z",
     "iopub.status.busy": "2021-04-27T05:50:21.953485Z",
     "iopub.status.idle": "2021-04-27T05:50:21.963435Z",
     "shell.execute_reply": "2021-04-27T05:50:21.962753Z"
    },
    "papermill": {
     "duration": 0.269564,
     "end_time": "2021-04-27T05:50:21.963596",
     "exception": false,
     "start_time": "2021-04-27T05:50:21.694032",
     "status": "completed"
    },
    "tags": []
   },
   "outputs": [],
   "source": [
    "# We use binary_crossentropy loss function because our final output activation is sigmoid\n",
    "# We use the default adam optimizer and accuracy as our metric\n",
    "model.compile(loss='binary_crossentropy', optimizer='adam', metrics=['accuracy'])"
   ]
  },
  {
   "cell_type": "code",
   "execution_count": 35,
   "id": "stunning-victorian",
   "metadata": {
    "execution": {
     "iopub.execute_input": "2021-04-27T05:50:22.514355Z",
     "iopub.status.busy": "2021-04-27T05:50:22.513326Z",
     "iopub.status.idle": "2021-04-27T05:50:23.705193Z",
     "shell.execute_reply": "2021-04-27T05:50:23.705817Z"
    },
    "papermill": {
     "duration": 1.418396,
     "end_time": "2021-04-27T05:50:23.706013",
     "exception": false,
     "start_time": "2021-04-27T05:50:22.287617",
     "status": "completed"
    },
    "tags": []
   },
   "outputs": [
    {
     "name": "stdout",
     "output_type": "stream",
     "text": [
      "lenght of train set:  1280000\n",
      "length of test set:  320000\n"
     ]
    }
   ],
   "source": [
    "# Spliting the data set\n",
    "# stratify shuffles the data before spliting\n",
    "X_train, X_test, Y_train, Y_test = train_test_split(X, Y, test_size=0.2, random_state=0, stratify=Y)\n",
    "print('lenght of train set: ', len(X_train))\n",
    "print('length of test set: ', len(X_test))"
   ]
  },
  {
   "cell_type": "markdown",
   "id": "western-cowboy",
   "metadata": {
    "papermill": {
     "duration": 0.183403,
     "end_time": "2021-04-27T05:50:24.075368",
     "exception": false,
     "start_time": "2021-04-27T05:50:23.891965",
     "status": "completed"
    },
    "tags": []
   },
   "source": [
    "## Training the model:\n",
    "* Use GPU even if you are using 1/64 of the data."
   ]
  },
  {
   "cell_type": "code",
   "execution_count": 36,
   "id": "invisible-stable",
   "metadata": {
    "execution": {
     "iopub.execute_input": "2021-04-27T05:50:24.446920Z",
     "iopub.status.busy": "2021-04-27T05:50:24.446277Z",
     "iopub.status.idle": "2021-04-27T06:42:22.309202Z",
     "shell.execute_reply": "2021-04-27T06:42:22.308780Z"
    },
    "papermill": {
     "duration": 3118.051196,
     "end_time": "2021-04-27T06:42:22.309324",
     "exception": false,
     "start_time": "2021-04-27T05:50:24.258128",
     "status": "completed"
    },
    "tags": []
   },
   "outputs": [
    {
     "name": "stdout",
     "output_type": "stream",
     "text": [
      "Epoch 1/20\n",
      "10000/10000 [==============================] - 161s 15ms/step - loss: 0.5547 - accuracy: 0.7119 - val_loss: 0.5020 - val_accuracy: 0.7528\n",
      "Epoch 2/20\n",
      "10000/10000 [==============================] - 153s 15ms/step - loss: 0.4928 - accuracy: 0.7579 - val_loss: 0.4861 - val_accuracy: 0.7637\n",
      "Epoch 3/20\n",
      "10000/10000 [==============================] - 155s 15ms/step - loss: 0.4740 - accuracy: 0.7705 - val_loss: 0.4828 - val_accuracy: 0.7663\n",
      "Epoch 4/20\n",
      "10000/10000 [==============================] - 155s 16ms/step - loss: 0.4597 - accuracy: 0.7793 - val_loss: 0.4803 - val_accuracy: 0.7677\n",
      "Epoch 5/20\n",
      "10000/10000 [==============================] - 155s 16ms/step - loss: 0.4451 - accuracy: 0.7879 - val_loss: 0.4815 - val_accuracy: 0.7677\n",
      "Epoch 6/20\n",
      "10000/10000 [==============================] - 156s 16ms/step - loss: 0.4297 - accuracy: 0.7968 - val_loss: 0.4885 - val_accuracy: 0.7673\n",
      "Epoch 7/20\n",
      "10000/10000 [==============================] - 155s 15ms/step - loss: 0.4147 - accuracy: 0.8054 - val_loss: 0.4997 - val_accuracy: 0.7646\n",
      "Epoch 8/20\n",
      "10000/10000 [==============================] - 154s 15ms/step - loss: 0.3978 - accuracy: 0.8151 - val_loss: 0.5085 - val_accuracy: 0.7611\n",
      "Epoch 9/20\n",
      "10000/10000 [==============================] - 155s 15ms/step - loss: 0.3827 - accuracy: 0.8227 - val_loss: 0.5178 - val_accuracy: 0.7597\n",
      "Epoch 10/20\n",
      "10000/10000 [==============================] - 154s 15ms/step - loss: 0.3674 - accuracy: 0.8310 - val_loss: 0.5403 - val_accuracy: 0.7569\n",
      "Epoch 11/20\n",
      "10000/10000 [==============================] - 155s 16ms/step - loss: 0.3541 - accuracy: 0.8384 - val_loss: 0.5580 - val_accuracy: 0.7529\n",
      "Epoch 12/20\n",
      "10000/10000 [==============================] - 156s 16ms/step - loss: 0.3405 - accuracy: 0.8449 - val_loss: 0.5696 - val_accuracy: 0.7508\n",
      "Epoch 13/20\n",
      "10000/10000 [==============================] - 155s 15ms/step - loss: 0.3289 - accuracy: 0.8514 - val_loss: 0.5896 - val_accuracy: 0.7492\n",
      "Epoch 14/20\n",
      "10000/10000 [==============================] - 154s 15ms/step - loss: 0.3188 - accuracy: 0.8558 - val_loss: 0.6103 - val_accuracy: 0.7474\n",
      "Epoch 15/20\n",
      "10000/10000 [==============================] - 154s 15ms/step - loss: 0.3090 - accuracy: 0.8610 - val_loss: 0.6247 - val_accuracy: 0.7449\n",
      "Epoch 16/20\n",
      "10000/10000 [==============================] - 155s 15ms/step - loss: 0.3011 - accuracy: 0.8649 - val_loss: 0.6408 - val_accuracy: 0.7448\n",
      "Epoch 17/20\n",
      "10000/10000 [==============================] - 155s 15ms/step - loss: 0.2941 - accuracy: 0.8680 - val_loss: 0.6570 - val_accuracy: 0.7431\n",
      "Epoch 18/20\n",
      "10000/10000 [==============================] - 171s 17ms/step - loss: 0.2877 - accuracy: 0.8711 - val_loss: 0.6685 - val_accuracy: 0.7408\n",
      "Epoch 19/20\n",
      "10000/10000 [==============================] - 155s 16ms/step - loss: 0.2816 - accuracy: 0.8743 - val_loss: 0.6746 - val_accuracy: 0.7394\n",
      "Epoch 20/20\n",
      "10000/10000 [==============================] - 155s 16ms/step - loss: 0.2765 - accuracy: 0.8769 - val_loss: 0.6964 - val_accuracy: 0.7395\n"
     ]
    },
    {
     "data": {
      "text/plain": [
       "<tensorflow.python.keras.callbacks.History at 0x7fdb0500ecd0>"
      ]
     },
     "execution_count": 36,
     "metadata": {},
     "output_type": "execute_result"
    }
   ],
   "source": [
    "model.fit(X_train, Y_train, validation_data=(X_test, Y_test), epochs=20, batch_size=128, shuffle=True)"
   ]
  },
  {
   "cell_type": "markdown",
   "id": "variable-aviation",
   "metadata": {
    "papermill": {
     "duration": 13.675473,
     "end_time": "2021-04-27T06:42:49.574130",
     "exception": false,
     "start_time": "2021-04-27T06:42:35.898657",
     "status": "completed"
    },
    "tags": []
   },
   "source": [
    "# Regularization:\n",
    "* Since our model is clearly overfitting we are going to add dropout regularization:"
   ]
  },
  {
   "cell_type": "code",
   "execution_count": 37,
   "id": "confident-python",
   "metadata": {
    "execution": {
     "iopub.execute_input": "2021-04-27T06:43:17.502586Z",
     "iopub.status.busy": "2021-04-27T06:43:17.501810Z",
     "iopub.status.idle": "2021-04-27T06:43:19.465451Z",
     "shell.execute_reply": "2021-04-27T06:43:19.464829Z"
    },
    "papermill": {
     "duration": 15.653698,
     "end_time": "2021-04-27T06:43:19.465619",
     "exception": false,
     "start_time": "2021-04-27T06:43:03.811921",
     "status": "completed"
    },
    "tags": []
   },
   "outputs": [
    {
     "name": "stdout",
     "output_type": "stream",
     "text": [
      "Model: \"sequential\"\n",
      "_________________________________________________________________\n",
      "Layer (type)                 Output Shape              Param #   \n",
      "=================================================================\n",
      "embedding (Embedding)        (None, 34, 50)            20000050  \n",
      "_________________________________________________________________\n",
      "dropout (Dropout)            (None, 34, 50)            0         \n",
      "_________________________________________________________________\n",
      "bidirectional (Bidirectional (None, 34, 512)           628736    \n",
      "_________________________________________________________________\n",
      "dropout_1 (Dropout)          (None, 34, 512)           0         \n",
      "_________________________________________________________________\n",
      "bidirectional_1 (Bidirection (None, 512)               1574912   \n",
      "_________________________________________________________________\n",
      "dense (Dense)                (None, 1)                 513       \n",
      "=================================================================\n",
      "Total params: 22,204,211\n",
      "Trainable params: 2,204,161\n",
      "Non-trainable params: 20,000,050\n",
      "_________________________________________________________________\n"
     ]
    }
   ],
   "source": [
    "# Clearing the previous keras session\n",
    "keras.backend.clear_session()\n",
    "\n",
    "model_do = Sequential()\n",
    "\n",
    "model_do.add(pretrained_embedding_layer(word_to_vec_map, word_to_index, max_len))\n",
    "model_do.add(Dropout(rate=0.3))\n",
    "model_do.add(Bidirectional(LSTM(units=256, return_sequences=True)))\n",
    "model_do.add(Dropout(rate=0.5))\n",
    "model_do.add(Bidirectional(LSTM(units=256, return_sequences=False)))\n",
    "model_do.add(Dense(units=1, activation='sigmoid'))\n",
    "\n",
    "model_do.summary()"
   ]
  },
  {
   "cell_type": "code",
   "execution_count": 38,
   "id": "durable-plaintiff",
   "metadata": {
    "execution": {
     "iopub.execute_input": "2021-04-27T06:43:47.553694Z",
     "iopub.status.busy": "2021-04-27T06:43:47.552882Z",
     "iopub.status.idle": "2021-04-27T06:43:47.558242Z",
     "shell.execute_reply": "2021-04-27T06:43:47.557839Z"
    },
    "papermill": {
     "duration": 13.635309,
     "end_time": "2021-04-27T06:43:47.558358",
     "exception": false,
     "start_time": "2021-04-27T06:43:33.923049",
     "status": "completed"
    },
    "tags": []
   },
   "outputs": [],
   "source": [
    "model_do.compile(loss='binary_crossentropy', optimizer='adam', metrics=['accuracy'])"
   ]
  },
  {
   "cell_type": "code",
   "execution_count": 39,
   "id": "careful-butter",
   "metadata": {
    "execution": {
     "iopub.execute_input": "2021-04-27T06:44:15.365839Z",
     "iopub.status.busy": "2021-04-27T06:44:15.363999Z",
     "iopub.status.idle": "2021-04-27T06:44:15.366465Z",
     "shell.execute_reply": "2021-04-27T06:44:15.366900Z"
    },
    "papermill": {
     "duration": 13.783213,
     "end_time": "2021-04-27T06:44:15.367052",
     "exception": false,
     "start_time": "2021-04-27T06:44:01.583839",
     "status": "completed"
    },
    "tags": []
   },
   "outputs": [],
   "source": [
    "from tensorflow.keras.callbacks import EarlyStopping\n",
    "early_stopping = EarlyStopping(patience=2)"
   ]
  },
  {
   "cell_type": "code",
   "execution_count": 40,
   "id": "pharmaceutical-hardware",
   "metadata": {
    "execution": {
     "iopub.execute_input": "2021-04-27T06:44:43.241265Z",
     "iopub.status.busy": "2021-04-27T06:44:43.240079Z",
     "iopub.status.idle": "2021-04-27T07:37:47.493767Z",
     "shell.execute_reply": "2021-04-27T07:37:47.494525Z"
    },
    "papermill": {
     "duration": 3197.799984,
     "end_time": "2021-04-27T07:37:47.494743",
     "exception": false,
     "start_time": "2021-04-27T06:44:29.694759",
     "status": "completed"
    },
    "tags": []
   },
   "outputs": [
    {
     "name": "stdout",
     "output_type": "stream",
     "text": [
      "Epoch 1/20\n",
      "10000/10000 [==============================] - 274s 27ms/step - loss: 0.5839 - accuracy: 0.6872 - val_loss: 0.5136 - val_accuracy: 0.7447\n",
      "Epoch 2/20\n",
      "10000/10000 [==============================] - 265s 26ms/step - loss: 0.5300 - accuracy: 0.7321 - val_loss: 0.4984 - val_accuracy: 0.7554\n",
      "Epoch 3/20\n",
      "10000/10000 [==============================] - 264s 26ms/step - loss: 0.5146 - accuracy: 0.7422 - val_loss: 0.4930 - val_accuracy: 0.7585\n",
      "Epoch 4/20\n",
      "10000/10000 [==============================] - 264s 26ms/step - loss: 0.5063 - accuracy: 0.7487 - val_loss: 0.4882 - val_accuracy: 0.7631\n",
      "Epoch 5/20\n",
      "10000/10000 [==============================] - 267s 27ms/step - loss: 0.5011 - accuracy: 0.7522 - val_loss: 0.4828 - val_accuracy: 0.7657\n",
      "Epoch 6/20\n",
      "10000/10000 [==============================] - 264s 26ms/step - loss: 0.4956 - accuracy: 0.7557 - val_loss: 0.4822 - val_accuracy: 0.7671\n",
      "Epoch 7/20\n",
      "10000/10000 [==============================] - 263s 26ms/step - loss: 0.4924 - accuracy: 0.7574 - val_loss: 0.4823 - val_accuracy: 0.7680\n",
      "Epoch 8/20\n",
      "10000/10000 [==============================] - 264s 26ms/step - loss: 0.4902 - accuracy: 0.7592 - val_loss: 0.4809 - val_accuracy: 0.7683\n",
      "Epoch 9/20\n",
      "10000/10000 [==============================] - 264s 26ms/step - loss: 0.4881 - accuracy: 0.7609 - val_loss: 0.4804 - val_accuracy: 0.7688\n",
      "Epoch 10/20\n",
      "10000/10000 [==============================] - 267s 27ms/step - loss: 0.4857 - accuracy: 0.7624 - val_loss: 0.4761 - val_accuracy: 0.7702\n",
      "Epoch 11/20\n",
      "10000/10000 [==============================] - 264s 26ms/step - loss: 0.4847 - accuracy: 0.7633 - val_loss: 0.4800 - val_accuracy: 0.7703\n",
      "Epoch 12/20\n",
      "10000/10000 [==============================] - 264s 26ms/step - loss: 0.4824 - accuracy: 0.7648 - val_loss: 0.4778 - val_accuracy: 0.7704\n"
     ]
    },
    {
     "data": {
      "text/plain": [
       "<tensorflow.python.keras.callbacks.History at 0x7fdb057f9950>"
      ]
     },
     "execution_count": 40,
     "metadata": {},
     "output_type": "execute_result"
    }
   ],
   "source": [
    "model_do.fit(X_train, Y_train, validation_data=(X_test, Y_test), epochs = 20, batch_size = 128, shuffle=True, callbacks=[early_stopping])"
   ]
  },
  {
   "cell_type": "markdown",
   "id": "refined-clear",
   "metadata": {
    "papermill": {
     "duration": 25.454343,
     "end_time": "2021-04-27T07:38:38.602338",
     "exception": false,
     "start_time": "2021-04-27T07:38:13.147995",
     "status": "completed"
    },
    "tags": []
   },
   "source": [
    "# Predicting a single data object"
   ]
  },
  {
   "cell_type": "code",
   "execution_count": 41,
   "id": "future-driving",
   "metadata": {
    "execution": {
     "iopub.execute_input": "2021-04-27T07:39:29.803885Z",
     "iopub.status.busy": "2021-04-27T07:39:29.802479Z",
     "iopub.status.idle": "2021-04-27T07:39:29.806769Z",
     "shell.execute_reply": "2021-04-27T07:39:29.807253Z"
    },
    "papermill": {
     "duration": 26.234249,
     "end_time": "2021-04-27T07:39:29.807410",
     "exception": false,
     "start_time": "2021-04-27T07:39:03.573161",
     "status": "completed"
    },
    "tags": []
   },
   "outputs": [
    {
     "data": {
      "text/plain": [
       "array([339262., 359889., 269798., 247378.,      0.,      0.,      0.,\n",
       "            0.,      0.,      0.,      0.,      0.,      0.,      0.,\n",
       "            0.,      0.,      0.,      0.,      0.,      0.,      0.,\n",
       "            0.,      0.,      0.,      0.,      0.,      0.,      0.,\n",
       "            0.,      0.,      0.,      0.,      0.,      0.])"
      ]
     },
     "execution_count": 41,
     "metadata": {},
     "output_type": "execute_result"
    }
   ],
   "source": [
    "def custom_tweet_to_indices(tweet, max_len):\n",
    "    \n",
    "    X = np.zeros((max_len))\n",
    "    sentence_indices = []\n",
    "    cleaned_words = lemmatize_sentence(tk.tokenize(tweet))\n",
    "    \n",
    "    for j,w in enumerate(cleaned_words):\n",
    "        try:\n",
    "            index = word_to_index[w]\n",
    "        except:\n",
    "            index = word_to_index['unk']\n",
    "        sentence_indices.append(index)\n",
    "        X[j] = index\n",
    "        \n",
    "    return X\n",
    "\n",
    "custom_tweet_to_indices('spending time on model', max_len)"
   ]
  },
  {
   "cell_type": "code",
   "execution_count": 42,
   "id": "occasional-termination",
   "metadata": {
    "execution": {
     "iopub.execute_input": "2021-04-27T07:40:21.501563Z",
     "iopub.status.busy": "2021-04-27T07:40:21.500723Z",
     "iopub.status.idle": "2021-04-27T07:40:21.502509Z",
     "shell.execute_reply": "2021-04-27T07:40:21.502933Z"
    },
    "papermill": {
     "duration": 25.387493,
     "end_time": "2021-04-27T07:40:21.503091",
     "exception": false,
     "start_time": "2021-04-27T07:39:56.115598",
     "status": "completed"
    },
    "tags": []
   },
   "outputs": [],
   "source": [
    "def predict_custom_string(tweet):\n",
    "    # Convert the tweet into indices\n",
    "    custom_input = custom_tweet_to_indices(tweet, max_len)\n",
    "    \n",
    "    return model_do.predict(np.array([custom_input])).item()"
   ]
  },
  {
   "cell_type": "code",
   "execution_count": 43,
   "id": "equivalent-palestine",
   "metadata": {
    "execution": {
     "iopub.execute_input": "2021-04-27T07:41:13.127979Z",
     "iopub.status.busy": "2021-04-27T07:41:13.127046Z",
     "iopub.status.idle": "2021-04-27T07:41:14.260897Z",
     "shell.execute_reply": "2021-04-27T07:41:14.260059Z"
    },
    "papermill": {
     "duration": 26.723925,
     "end_time": "2021-04-27T07:41:14.261042",
     "exception": false,
     "start_time": "2021-04-27T07:40:47.537117",
     "status": "completed"
    },
    "tags": []
   },
   "outputs": [
    {
     "name": "stdout",
     "output_type": "stream",
     "text": [
      "0.9358109831809998\n",
      "0.09597533196210861\n"
     ]
    }
   ],
   "source": [
    "print(predict_custom_string(\"I love chocolate\"))\n",
    "print(predict_custom_string(\"I hate chocolate\"))"
   ]
  },
  {
   "cell_type": "code",
   "execution_count": 44,
   "id": "infinite-disease",
   "metadata": {
    "execution": {
     "iopub.execute_input": "2021-04-27T07:42:05.060266Z",
     "iopub.status.busy": "2021-04-27T07:42:05.059377Z",
     "iopub.status.idle": "2021-04-27T07:42:05.143227Z",
     "shell.execute_reply": "2021-04-27T07:42:05.143699Z"
    },
    "papermill": {
     "duration": 25.337039,
     "end_time": "2021-04-27T07:42:05.143897",
     "exception": false,
     "start_time": "2021-04-27T07:41:39.806858",
     "status": "completed"
    },
    "tags": []
   },
   "outputs": [
    {
     "name": "stdout",
     "output_type": "stream",
     "text": [
      "0.3671606779098511\n",
      "0.8472325801849365\n"
     ]
    }
   ],
   "source": [
    "print(predict_custom_string(\"I Never liked chocolate at all\"))\n",
    "print(predict_custom_string(\"I have always liked chocolate.\"))"
   ]
  },
  {
   "cell_type": "code",
   "execution_count": null,
   "id": "reverse-participant",
   "metadata": {
    "papermill": {
     "duration": 25.858992,
     "end_time": "2021-04-27T07:42:57.068530",
     "exception": false,
     "start_time": "2021-04-27T07:42:31.209538",
     "status": "completed"
    },
    "tags": []
   },
   "outputs": [],
   "source": []
  }
 ],
 "metadata": {
  "kernelspec": {
   "display_name": "Python 3",
   "language": "python",
   "name": "python3"
  },
  "language_info": {
   "codemirror_mode": {
    "name": "ipython",
    "version": 3
   },
   "file_extension": ".py",
   "mimetype": "text/x-python",
   "name": "python",
   "nbconvert_exporter": "python",
   "pygments_lexer": "ipython3",
   "version": "3.7.9"
  },
  "papermill": {
   "default_parameters": {},
   "duration": 8700.677187,
   "end_time": "2021-04-27T07:43:28.832836",
   "environment_variables": {},
   "exception": null,
   "input_path": "__notebook__.ipynb",
   "output_path": "__notebook__.ipynb",
   "parameters": {},
   "start_time": "2021-04-27T05:18:28.155649",
   "version": "2.3.2"
  }
 },
 "nbformat": 4,
 "nbformat_minor": 5
}
